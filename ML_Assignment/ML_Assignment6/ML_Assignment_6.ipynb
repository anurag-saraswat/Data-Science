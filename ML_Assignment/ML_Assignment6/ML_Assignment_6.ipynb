{
  "nbformat": 4,
  "nbformat_minor": 0,
  "metadata": {
    "kernelspec": {
      "display_name": "Python 3",
      "language": "python",
      "name": "python3"
    },
    "language_info": {
      "codemirror_mode": {
        "name": "ipython",
        "version": 3
      },
      "file_extension": ".py",
      "mimetype": "text/x-python",
      "name": "python",
      "nbconvert_exporter": "python",
      "pygments_lexer": "ipython3",
      "version": "3.7.7"
    },
    "colab": {
      "name": "ML_Assignment_6.ipynb",
      "provenance": [],
      "collapsed_sections": []
    }
  },
  "cells": [
    {
      "cell_type": "code",
      "metadata": {
        "id": "MdvAgLXgE18J"
      },
      "source": [
        "# importing libraries\n",
        "import numpy as np\n",
        "import tensorflow as tf\n",
        "import matplotlib.pyplot as plt\n",
        "%matplotlib inline"
      ],
      "execution_count": 1,
      "outputs": []
    },
    {
      "cell_type": "code",
      "metadata": {
        "id": "ahp4CSYTE18P",
        "outputId": "8ca04b82-8930-4e0e-dd1e-c21049d7c611",
        "colab": {
          "base_uri": "https://localhost:8080/"
        }
      },
      "source": [
        "# Loading Data Set\n",
        "from keras.datasets import mnist\n",
        "(x_train, y_train), (x_test, y_test) = mnist.load_data()\n",
        "\n",
        "print(len(x_train),len(x_test))"
      ],
      "execution_count": 21,
      "outputs": [
        {
          "output_type": "stream",
          "text": [
            "60000 10000\n"
          ],
          "name": "stdout"
        }
      ]
    },
    {
      "cell_type": "markdown",
      "metadata": {
        "id": "BVa6uiThE18c"
      },
      "source": [
        "### Data Visualisation"
      ]
    },
    {
      "cell_type": "code",
      "metadata": {
        "cell_style": "center",
        "hide_input": false,
        "id": "2aF332YzE18d",
        "outputId": "9822f98d-25ed-4a7b-e025-81155d567451",
        "colab": {
          "base_uri": "https://localhost:8080/",
          "height": 187
        }
      },
      "source": [
        "# Visualising 10 random sample from training data\n",
        "indexes = np.random.randint(0, x_train.shape[0], size=10)\n",
        "images = x_train[indexes]\n",
        "\n",
        "# plot the 10 mnist digits\n",
        "plt.figure(figsize=(4, 4))\n",
        "for i in range(len(indexes)):\n",
        "    plt.subplot(2, 5, i + 1)\n",
        "    image = images[i]\n",
        "    plt.imshow(image, cmap='gray')\n",
        "    plt.axis('off')\n",
        "\n",
        "plt.show()\n",
        "plt.close('all')"
      ],
      "execution_count": 3,
      "outputs": [
        {
          "output_type": "display_data",
          "data": {
            "image/png": "[encoded data removed]",
            "text/plain": [
              "<Figure size 288x288 with 10 Axes>"
            ]
          },
          "metadata": {
            "tags": [],
            "needs_background": "light"
          }
        }
      ]
    },
    {
      "cell_type": "markdown",
      "metadata": {
        "id": "ct3EtckpE18l"
      },
      "source": [
        "### Resize and Normalizing Data\n",
        "\n"
      ]
    },
    {
      "cell_type": "code",
      "metadata": {
        "id": "CZhcb4TgE18m"
      },
      "source": [
        "image_size = x_train.shape[1]\n",
        "input_size = image_size **2\n",
        "# resize and normalize\n",
        "x_train = np.reshape(x_train, [-1, input_size])\n",
        "x_train = x_train.astype('float32') / 255\n",
        "x_test = np.reshape(x_test, [-1, input_size])\n",
        "x_test = x_test.astype('float32') / 255\n"
      ],
      "execution_count": 4,
      "outputs": []
    },
    {
      "cell_type": "markdown",
      "metadata": {
        "id": "WAOxwYRQE18t"
      },
      "source": [
        "# Importing Libraries"
      ]
    },
    {
      "cell_type": "code",
      "metadata": {
        "id": "nrO8FhAEE18u"
      },
      "source": [
        "#Importing Keras layers \n",
        "import keras\n",
        "from keras.models import Model\n",
        "from keras.layers import *\n",
        "from keras import optimizers"
      ],
      "execution_count": 5,
      "outputs": []
    },
    {
      "cell_type": "code",
      "metadata": {
        "id": "OXqhAH7KE182"
      },
      "source": [
        "# compute the number of labels\n",
        "num_labels = len(np.unique(y_train))"
      ],
      "execution_count": 6,
      "outputs": []
    },
    {
      "cell_type": "code",
      "metadata": {
        "id": "FPOEdNTWE185"
      },
      "source": [
        "# Convert labels to One Hot Encoded\n",
        "num_digits = 10\n",
        "y_train = keras.utils.to_categorical(y_train, num_digits)\n",
        "y_test = keras.utils.to_categorical(y_test, num_digits)\n"
      ],
      "execution_count": 7,
      "outputs": []
    },
    {
      "cell_type": "markdown",
      "metadata": {
        "id": "_pKXgzXtFlym"
      },
      "source": [
        "#1) Varying the number of hidden layers from 0 to 2"
      ]
    },
    {
      "cell_type": "markdown",
      "metadata": {
        "id": "ahOz6qDVOcXd"
      },
      "source": [
        "## 2 Hidden Layer"
      ]
    },
    {
      "cell_type": "code",
      "metadata": {
        "id": "RCX8DmrOK9RY",
        "outputId": "503dd413-b615-42e0-cac4-dbc9f8e534bf",
        "colab": {
          "base_uri": "https://localhost:8080/"
        }
      },
      "source": [
        "# Input Parameters\n",
        "n_input = 784 # number of features\n",
        "n_hidden_1 = 100\n",
        "n_hidden_2 = 100\n",
        "n_hidden_3 = 100\n",
        "num_digits = 10\n",
        "\n",
        "# Total Parameter = 99710\n",
        "\n",
        "Inp = Input(shape=(784,))\n",
        "x = Dense(n_hidden_1, activation='relu', name = \"Hidden_Layer_1\")(Inp)\n",
        "x = Dense(n_hidden_2, activation='relu', name = \"Hidden_Layer_2\")(x)\n",
        "output = Dense(num_digits, activation='softmax', name = \"Output_Layer\")(x)\n",
        "\n",
        "model = Model(Inp, output)\n",
        "print(model.summary()) "
      ],
      "execution_count": 8,
      "outputs": [
        {
          "output_type": "stream",
          "text": [
            "Model: \"functional_1\"\n",
            "_________________________________________________________________\n",
            "Layer (type)                 Output Shape              Param #   \n",
            "=================================================================\n",
            "input_1 (InputLayer)         [(None, 784)]             0         \n",
            "_________________________________________________________________\n",
            "Hidden_Layer_1 (Dense)       (None, 100)               78500     \n",
            "_________________________________________________________________\n",
            "Hidden_Layer_2 (Dense)       (None, 100)               10100     \n",
            "_________________________________________________________________\n",
            "Output_Layer (Dense)         (None, 10)                1010      \n",
            "=================================================================\n",
            "Total params: 89,610\n",
            "Trainable params: 89,610\n",
            "Non-trainable params: 0\n",
            "_________________________________________________________________\n",
            "None\n"
          ],
          "name": "stdout"
        }
      ]
    },
    {
      "cell_type": "code",
      "metadata": {
        "id": "SDUMw0NuLzer",
        "outputId": "cdbed82e-66fb-486e-98fb-0c1eed76a465",
        "colab": {
          "base_uri": "https://localhost:8080/"
        }
      },
      "source": [
        "# Insert Hyperparameters\n",
        "learning_rate = 0.1\n",
        "training_epochs = 20\n",
        "batch_size = 100\n",
        "sgd = optimizers.SGD(lr=learning_rate)\n",
        "\n",
        "# Using  Stochastic Gradient Descent as our optimizing methodology\n",
        "model.compile(loss='categorical_crossentropy',optimizer='sgd',metrics=['accuracy'])\n",
        "\n",
        "# Using 10 percent of training as validation data\n",
        "history1 = model.fit(x_train, y_train,batch_size = batch_size,epochs = training_epochs,verbose = 2,validation_split=0.1)\n",
        "\n",
        "loss_2, acc_2 = model.evaluate(x_test, y_test, batch_size=batch_size)\n"
      ],
      "execution_count": 9,
      "outputs": [
        {
          "output_type": "stream",
          "text": [
            "Epoch 1/20\n",
            "540/540 - 2s - loss: 1.2561 - accuracy: 0.6706 - val_loss: 0.5389 - val_accuracy: 0.8770\n",
            "Epoch 2/20\n",
            "540/540 - 1s - loss: 0.4946 - accuracy: 0.8692 - val_loss: 0.3458 - val_accuracy: 0.9113\n",
            "Epoch 3/20\n",
            "540/540 - 1s - loss: 0.3837 - accuracy: 0.8937 - val_loss: 0.2916 - val_accuracy: 0.9205\n",
            "Epoch 4/20\n",
            "540/540 - 1s - loss: 0.3392 - accuracy: 0.9042 - val_loss: 0.2625 - val_accuracy: 0.9262\n",
            "Epoch 5/20\n",
            "540/540 - 1s - loss: 0.3116 - accuracy: 0.9111 - val_loss: 0.2446 - val_accuracy: 0.9297\n",
            "Epoch 6/20\n",
            "540/540 - 1s - loss: 0.2904 - accuracy: 0.9176 - val_loss: 0.2311 - val_accuracy: 0.9338\n",
            "Epoch 7/20\n",
            "540/540 - 1s - loss: 0.2737 - accuracy: 0.9218 - val_loss: 0.2171 - val_accuracy: 0.9400\n",
            "Epoch 8/20\n",
            "540/540 - 1s - loss: 0.2592 - accuracy: 0.9264 - val_loss: 0.2073 - val_accuracy: 0.9393\n",
            "Epoch 9/20\n",
            "540/540 - 1s - loss: 0.2468 - accuracy: 0.9295 - val_loss: 0.1996 - val_accuracy: 0.9437\n",
            "Epoch 10/20\n",
            "540/540 - 1s - loss: 0.2356 - accuracy: 0.9329 - val_loss: 0.1901 - val_accuracy: 0.9457\n",
            "Epoch 11/20\n",
            "540/540 - 1s - loss: 0.2259 - accuracy: 0.9355 - val_loss: 0.1831 - val_accuracy: 0.9477\n",
            "Epoch 12/20\n",
            "540/540 - 1s - loss: 0.2165 - accuracy: 0.9381 - val_loss: 0.1769 - val_accuracy: 0.9510\n",
            "Epoch 13/20\n",
            "540/540 - 1s - loss: 0.2085 - accuracy: 0.9407 - val_loss: 0.1697 - val_accuracy: 0.9543\n",
            "Epoch 14/20\n",
            "540/540 - 1s - loss: 0.2008 - accuracy: 0.9425 - val_loss: 0.1649 - val_accuracy: 0.9553\n",
            "Epoch 15/20\n",
            "540/540 - 1s - loss: 0.1936 - accuracy: 0.9446 - val_loss: 0.1600 - val_accuracy: 0.9588\n",
            "Epoch 16/20\n",
            "540/540 - 1s - loss: 0.1870 - accuracy: 0.9464 - val_loss: 0.1567 - val_accuracy: 0.9577\n",
            "Epoch 17/20\n",
            "540/540 - 1s - loss: 0.1808 - accuracy: 0.9481 - val_loss: 0.1508 - val_accuracy: 0.9597\n",
            "Epoch 18/20\n",
            "540/540 - 1s - loss: 0.1748 - accuracy: 0.9505 - val_loss: 0.1479 - val_accuracy: 0.9610\n",
            "Epoch 19/20\n",
            "540/540 - 1s - loss: 0.1694 - accuracy: 0.9514 - val_loss: 0.1444 - val_accuracy: 0.9632\n",
            "Epoch 20/20\n",
            "540/540 - 1s - loss: 0.1642 - accuracy: 0.9528 - val_loss: 0.1418 - val_accuracy: 0.9630\n",
            "100/100 [==============================] - 0s 2ms/step - loss: 0.1672 - accuracy: 0.9510\n"
          ],
          "name": "stdout"
        }
      ]
    },
    {
      "cell_type": "markdown",
      "metadata": {
        "id": "b15AyFmwO3Cr"
      },
      "source": [
        "## 1 Hidden Layer"
      ]
    },
    {
      "cell_type": "code",
      "metadata": {
        "id": "XOx34ndvODN0",
        "outputId": "45823592-2f6f-412c-b81f-18c57c8a295f",
        "colab": {
          "base_uri": "https://localhost:8080/"
        }
      },
      "source": [
        "# Input Parameters\n",
        "n_input = 784 # number of features\n",
        "n_hidden_1 = 100\n",
        "num_digits = 10\n",
        "\n",
        "# Total Parameter = 79510\n",
        "\n",
        "Inp = Input(shape=(784,))\n",
        "x = Dense(n_hidden_1, activation='relu', name = \"Hidden_Layer_1\")(Inp)\n",
        "output = Dense(num_digits, activation='softmax', name = \"Output_Layer\")(x)\n",
        "\n",
        "model = Model(Inp, output)\n",
        "print(model.summary()) "
      ],
      "execution_count": 10,
      "outputs": [
        {
          "output_type": "stream",
          "text": [
            "Model: \"functional_3\"\n",
            "_________________________________________________________________\n",
            "Layer (type)                 Output Shape              Param #   \n",
            "=================================================================\n",
            "input_2 (InputLayer)         [(None, 784)]             0         \n",
            "_________________________________________________________________\n",
            "Hidden_Layer_1 (Dense)       (None, 100)               78500     \n",
            "_________________________________________________________________\n",
            "Output_Layer (Dense)         (None, 10)                1010      \n",
            "=================================================================\n",
            "Total params: 79,510\n",
            "Trainable params: 79,510\n",
            "Non-trainable params: 0\n",
            "_________________________________________________________________\n",
            "None\n"
          ],
          "name": "stdout"
        }
      ]
    },
    {
      "cell_type": "code",
      "metadata": {
        "id": "YLrrSYz-P8NH",
        "outputId": "a9edfaab-743a-4760-980e-6ea5b648e795",
        "colab": {
          "base_uri": "https://localhost:8080/"
        }
      },
      "source": [
        "# Insert Hyperparameters\n",
        "learning_rate = 0.1\n",
        "training_epochs = 20\n",
        "batch_size = 100\n",
        "sgd = optimizers.SGD(lr=learning_rate)\n",
        "\n",
        "# Using  Stochastic Gradient Descent as our optimizing methodology\n",
        "model.compile(loss='categorical_crossentropy',optimizer='sgd',metrics=['accuracy'])\n",
        "\n",
        "# Using 10 percent of training as validation data\n",
        "history1 = model.fit(x_train, y_train,batch_size = batch_size,epochs = training_epochs,verbose = 2,validation_split=0.1)\n",
        "\n",
        "loss_1, acc_1 = model.evaluate(x_test, y_test, batch_size=batch_size)"
      ],
      "execution_count": 11,
      "outputs": [
        {
          "output_type": "stream",
          "text": [
            "Epoch 1/20\n",
            "540/540 - 1s - loss: 1.1633 - accuracy: 0.7163 - val_loss: 0.5610 - val_accuracy: 0.8862\n",
            "Epoch 2/20\n",
            "540/540 - 1s - loss: 0.5317 - accuracy: 0.8676 - val_loss: 0.3871 - val_accuracy: 0.9090\n",
            "Epoch 3/20\n",
            "540/540 - 1s - loss: 0.4285 - accuracy: 0.8859 - val_loss: 0.3301 - val_accuracy: 0.9158\n",
            "Epoch 4/20\n",
            "540/540 - 1s - loss: 0.3831 - accuracy: 0.8949 - val_loss: 0.3012 - val_accuracy: 0.9205\n",
            "Epoch 5/20\n",
            "540/540 - 1s - loss: 0.3559 - accuracy: 0.9006 - val_loss: 0.2827 - val_accuracy: 0.9247\n",
            "Epoch 6/20\n",
            "540/540 - 1s - loss: 0.3365 - accuracy: 0.9061 - val_loss: 0.2701 - val_accuracy: 0.9260\n",
            "Epoch 7/20\n",
            "540/540 - 1s - loss: 0.3215 - accuracy: 0.9098 - val_loss: 0.2583 - val_accuracy: 0.9275\n",
            "Epoch 8/20\n",
            "540/540 - 1s - loss: 0.3090 - accuracy: 0.9131 - val_loss: 0.2511 - val_accuracy: 0.9308\n",
            "Epoch 9/20\n",
            "540/540 - 1s - loss: 0.2984 - accuracy: 0.9164 - val_loss: 0.2417 - val_accuracy: 0.9335\n",
            "Epoch 10/20\n",
            "540/540 - 1s - loss: 0.2887 - accuracy: 0.9190 - val_loss: 0.2342 - val_accuracy: 0.9355\n",
            "Epoch 11/20\n",
            "540/540 - 1s - loss: 0.2798 - accuracy: 0.9214 - val_loss: 0.2288 - val_accuracy: 0.9370\n",
            "Epoch 12/20\n",
            "540/540 - 1s - loss: 0.2719 - accuracy: 0.9236 - val_loss: 0.2209 - val_accuracy: 0.9380\n",
            "Epoch 13/20\n",
            "540/540 - 1s - loss: 0.2645 - accuracy: 0.9262 - val_loss: 0.2157 - val_accuracy: 0.9400\n",
            "Epoch 14/20\n",
            "540/540 - 1s - loss: 0.2574 - accuracy: 0.9279 - val_loss: 0.2099 - val_accuracy: 0.9407\n",
            "Epoch 15/20\n",
            "540/540 - 1s - loss: 0.2509 - accuracy: 0.9300 - val_loss: 0.2040 - val_accuracy: 0.9432\n",
            "Epoch 16/20\n",
            "540/540 - 1s - loss: 0.2445 - accuracy: 0.9315 - val_loss: 0.1995 - val_accuracy: 0.9438\n",
            "Epoch 17/20\n",
            "540/540 - 1s - loss: 0.2387 - accuracy: 0.9334 - val_loss: 0.1952 - val_accuracy: 0.9460\n",
            "Epoch 18/20\n",
            "540/540 - 1s - loss: 0.2330 - accuracy: 0.9351 - val_loss: 0.1905 - val_accuracy: 0.9465\n",
            "Epoch 19/20\n",
            "540/540 - 1s - loss: 0.2279 - accuracy: 0.9361 - val_loss: 0.1877 - val_accuracy: 0.9490\n",
            "Epoch 20/20\n",
            "540/540 - 1s - loss: 0.2230 - accuracy: 0.9376 - val_loss: 0.1833 - val_accuracy: 0.9517\n",
            "100/100 [==============================] - 0s 1ms/step - loss: 0.2143 - accuracy: 0.9401\n"
          ],
          "name": "stdout"
        }
      ]
    },
    {
      "cell_type": "markdown",
      "metadata": {
        "id": "SQkdp4YdT_HN"
      },
      "source": [
        "## 0 Hidden Layer"
      ]
    },
    {
      "cell_type": "code",
      "metadata": {
        "id": "1cgc2AvIT48E",
        "outputId": "559fa0f0-54aa-4c89-c4f5-5639574a5ecb",
        "colab": {
          "base_uri": "https://localhost:8080/"
        }
      },
      "source": [
        "# Input Parameters\n",
        "n_input = 784 # number of features\n",
        "num_digits = 10\n",
        "\n",
        "# Total parameter = 7850\n",
        "\n",
        "Inp = Input(shape=(784,))\n",
        "output = Dense(num_digits, activation='softmax', name = \"Output_Layer\")(Inp)\n",
        "model = Model(Inp, output)\n",
        "print(model.summary()) "
      ],
      "execution_count": 12,
      "outputs": [
        {
          "output_type": "stream",
          "text": [
            "Model: \"functional_5\"\n",
            "_________________________________________________________________\n",
            "Layer (type)                 Output Shape              Param #   \n",
            "=================================================================\n",
            "input_3 (InputLayer)         [(None, 784)]             0         \n",
            "_________________________________________________________________\n",
            "Output_Layer (Dense)         (None, 10)                7850      \n",
            "=================================================================\n",
            "Total params: 7,850\n",
            "Trainable params: 7,850\n",
            "Non-trainable params: 0\n",
            "_________________________________________________________________\n",
            "None\n"
          ],
          "name": "stdout"
        }
      ]
    },
    {
      "cell_type": "code",
      "metadata": {
        "id": "QdbeAahlUIej",
        "outputId": "ae4695a7-dad8-4ab6-ea4e-82193802c8f9",
        "colab": {
          "base_uri": "https://localhost:8080/"
        }
      },
      "source": [
        "# Insert Hyperparameters\n",
        "learning_rate = 0.1\n",
        "training_epochs = 20\n",
        "batch_size = 100\n",
        "sgd = optimizers.SGD(lr=learning_rate)\n",
        "\n",
        "# Using  Stochastic Gradient Descent as our optimizing methodology\n",
        "model.compile(loss='categorical_crossentropy',optimizer='sgd',metrics=['accuracy'])\n",
        "\n",
        "# Using 10 percent of training as validation data\n",
        "history1 = model.fit(x_train, y_train,batch_size = batch_size,epochs = training_epochs,verbose = 2,validation_split=0.1)\n",
        "\n",
        "loss_0, acc_0 = model.evaluate(x_test, y_test, batch_size=batch_size)"
      ],
      "execution_count": 13,
      "outputs": [
        {
          "output_type": "stream",
          "text": [
            "Epoch 1/20\n",
            "540/540 - 1s - loss: 1.2198 - accuracy: 0.7224 - val_loss: 0.7141 - val_accuracy: 0.8702\n",
            "Epoch 2/20\n",
            "540/540 - 1s - loss: 0.6819 - accuracy: 0.8458 - val_loss: 0.5265 - val_accuracy: 0.8927\n",
            "Epoch 3/20\n",
            "540/540 - 1s - loss: 0.5657 - accuracy: 0.8631 - val_loss: 0.4530 - val_accuracy: 0.8992\n",
            "Epoch 4/20\n",
            "540/540 - 1s - loss: 0.5098 - accuracy: 0.8718 - val_loss: 0.4126 - val_accuracy: 0.9047\n",
            "Epoch 5/20\n",
            "540/540 - 1s - loss: 0.4756 - accuracy: 0.8771 - val_loss: 0.3869 - val_accuracy: 0.9070\n",
            "Epoch 6/20\n",
            "540/540 - 1s - loss: 0.4521 - accuracy: 0.8807 - val_loss: 0.3687 - val_accuracy: 0.9088\n",
            "Epoch 7/20\n",
            "540/540 - 1s - loss: 0.4345 - accuracy: 0.8849 - val_loss: 0.3550 - val_accuracy: 0.9110\n",
            "Epoch 8/20\n",
            "540/540 - 1s - loss: 0.4207 - accuracy: 0.8875 - val_loss: 0.3439 - val_accuracy: 0.9130\n",
            "Epoch 9/20\n",
            "540/540 - 1s - loss: 0.4096 - accuracy: 0.8897 - val_loss: 0.3354 - val_accuracy: 0.9153\n",
            "Epoch 10/20\n",
            "540/540 - 1s - loss: 0.4003 - accuracy: 0.8918 - val_loss: 0.3281 - val_accuracy: 0.9155\n",
            "Epoch 11/20\n",
            "540/540 - 1s - loss: 0.3925 - accuracy: 0.8934 - val_loss: 0.3218 - val_accuracy: 0.9175\n",
            "Epoch 12/20\n",
            "540/540 - 1s - loss: 0.3857 - accuracy: 0.8953 - val_loss: 0.3165 - val_accuracy: 0.9167\n",
            "Epoch 13/20\n",
            "540/540 - 1s - loss: 0.3797 - accuracy: 0.8965 - val_loss: 0.3119 - val_accuracy: 0.9182\n",
            "Epoch 14/20\n",
            "540/540 - 1s - loss: 0.3745 - accuracy: 0.8977 - val_loss: 0.3079 - val_accuracy: 0.9193\n",
            "Epoch 15/20\n",
            "540/540 - 1s - loss: 0.3698 - accuracy: 0.8985 - val_loss: 0.3041 - val_accuracy: 0.9193\n",
            "Epoch 16/20\n",
            "540/540 - 1s - loss: 0.3656 - accuracy: 0.8994 - val_loss: 0.3011 - val_accuracy: 0.9187\n",
            "Epoch 17/20\n",
            "540/540 - 1s - loss: 0.3617 - accuracy: 0.9001 - val_loss: 0.2979 - val_accuracy: 0.9210\n",
            "Epoch 18/20\n",
            "540/540 - 1s - loss: 0.3582 - accuracy: 0.9008 - val_loss: 0.2951 - val_accuracy: 0.9212\n",
            "Epoch 19/20\n",
            "540/540 - 1s - loss: 0.3550 - accuracy: 0.9016 - val_loss: 0.2929 - val_accuracy: 0.9222\n",
            "Epoch 20/20\n",
            "540/540 - 1s - loss: 0.3520 - accuracy: 0.9020 - val_loss: 0.2904 - val_accuracy: 0.9223\n",
            "100/100 [==============================] - 0s 1ms/step - loss: 0.3280 - accuracy: 0.9108\n"
          ],
          "name": "stdout"
        }
      ]
    },
    {
      "cell_type": "code",
      "metadata": {
        "id": "5fhIkpgqVAZi"
      },
      "source": [
        ""
      ],
      "execution_count": 13,
      "outputs": []
    },
    {
      "cell_type": "markdown",
      "metadata": {
        "id": "GkGwGqJjVE7C"
      },
      "source": [
        "## Result"
      ]
    },
    {
      "cell_type": "code",
      "metadata": {
        "id": "IO28V8flVGeJ",
        "outputId": "7de1f577-58ca-4632-b06d-4814de25a313",
        "colab": {
          "base_uri": "https://localhost:8080/"
        }
      },
      "source": [
        "print(\"Accuracy achieved Using 0 Hidden Layer: \", round((acc_0*100),2))\n",
        "print(\"Accuracy achieved Using 1 Hidden Layer: \", round((acc_1*100),2))\n",
        "print(\"Accuracy achieved Using 2 Hidden Layer: \", round((acc_2*100),2))\n",
        "\n"
      ],
      "execution_count": 14,
      "outputs": [
        {
          "output_type": "stream",
          "text": [
            "Accuracy achieved Using 0 Hidden Layer:  91.08\n",
            "Accuracy achieved Using 1 Hidden Layer:  94.01\n",
            "Accuracy achieved Using 2 Hidden Layer:  95.1\n"
          ],
          "name": "stdout"
        }
      ]
    },
    {
      "cell_type": "markdown",
      "metadata": {
        "id": "elcxSR3ZWlH_"
      },
      "source": [
        "# 2) Trying sigmoid and relu activation functions for the hidden layer nodes.\n"
      ]
    },
    {
      "cell_type": "markdown",
      "metadata": {
        "id": "2yH4bYenWxmF"
      },
      "source": [
        "## Using Relu"
      ]
    },
    {
      "cell_type": "code",
      "metadata": {
        "id": "fWTOA5LwW0gy",
        "outputId": "018460c6-3994-4ac7-cac0-235e8cf6b686",
        "colab": {
          "base_uri": "https://localhost:8080/"
        }
      },
      "source": [
        "# Input Parameters\n",
        "n_input = 784 # number of features\n",
        "n_hidden_1 = 100\n",
        "n_hidden_2 = 100\n",
        "n_hidden_3 = 100\n",
        "num_digits = 10\n",
        "\n",
        "# Total Parameter = 99710\n",
        "\n",
        "Inp = Input(shape=(784,))\n",
        "x = Dense(n_hidden_1, activation='relu', name = \"Hidden_Layer_1\")(Inp)\n",
        "x = Dense(n_hidden_2, activation='relu', name = \"Hidden_Layer_2\")(x)\n",
        "output = Dense(num_digits, activation='softmax', name = \"Output_Layer\")(x)\n",
        "\n",
        "model = Model(Inp, output)\n",
        "\n",
        "# Insert Hyperparameters\n",
        "learning_rate = 0.1\n",
        "training_epochs = 20\n",
        "batch_size = 100\n",
        "sgd = optimizers.SGD(lr=learning_rate)\n",
        "\n",
        "# Using  Stochastic Gradient Descent as our optimizing methodology\n",
        "model.compile(loss='categorical_crossentropy',optimizer='sgd',metrics=['accuracy'])\n",
        "\n",
        "# Using 10 percent of training as validation data\n",
        "history1 = model.fit(x_train, y_train,batch_size = batch_size,epochs = training_epochs,verbose = 2,validation_split=0.1)\n",
        "\n",
        "loss_relu, acc_relu = model.evaluate(x_test, y_test, batch_size=batch_size)"
      ],
      "execution_count": 15,
      "outputs": [
        {
          "output_type": "stream",
          "text": [
            "Epoch 1/20\n",
            "540/540 - 2s - loss: 1.2597 - accuracy: 0.6839 - val_loss: 0.5216 - val_accuracy: 0.8832\n",
            "Epoch 2/20\n",
            "540/540 - 1s - loss: 0.4850 - accuracy: 0.8690 - val_loss: 0.3391 - val_accuracy: 0.9103\n",
            "Epoch 3/20\n",
            "540/540 - 1s - loss: 0.3780 - accuracy: 0.8943 - val_loss: 0.2831 - val_accuracy: 0.9247\n",
            "Epoch 4/20\n",
            "540/540 - 1s - loss: 0.3319 - accuracy: 0.9063 - val_loss: 0.2549 - val_accuracy: 0.9295\n",
            "Epoch 5/20\n",
            "540/540 - 1s - loss: 0.3032 - accuracy: 0.9137 - val_loss: 0.2375 - val_accuracy: 0.9335\n",
            "Epoch 6/20\n",
            "540/540 - 2s - loss: 0.2818 - accuracy: 0.9196 - val_loss: 0.2222 - val_accuracy: 0.9372\n",
            "Epoch 7/20\n",
            "540/540 - 2s - loss: 0.2647 - accuracy: 0.9249 - val_loss: 0.2111 - val_accuracy: 0.9417\n",
            "Epoch 8/20\n",
            "540/540 - 2s - loss: 0.2507 - accuracy: 0.9289 - val_loss: 0.1987 - val_accuracy: 0.9457\n",
            "Epoch 9/20\n",
            "540/540 - 2s - loss: 0.2380 - accuracy: 0.9320 - val_loss: 0.1908 - val_accuracy: 0.9487\n",
            "Epoch 10/20\n",
            "540/540 - 2s - loss: 0.2271 - accuracy: 0.9354 - val_loss: 0.1823 - val_accuracy: 0.9510\n",
            "Epoch 11/20\n",
            "540/540 - 2s - loss: 0.2173 - accuracy: 0.9376 - val_loss: 0.1759 - val_accuracy: 0.9513\n",
            "Epoch 12/20\n",
            "540/540 - 2s - loss: 0.2084 - accuracy: 0.9403 - val_loss: 0.1681 - val_accuracy: 0.9528\n",
            "Epoch 13/20\n",
            "540/540 - 2s - loss: 0.2004 - accuracy: 0.9427 - val_loss: 0.1640 - val_accuracy: 0.9545\n",
            "Epoch 14/20\n",
            "540/540 - 2s - loss: 0.1928 - accuracy: 0.9446 - val_loss: 0.1573 - val_accuracy: 0.9570\n",
            "Epoch 15/20\n",
            "540/540 - 2s - loss: 0.1859 - accuracy: 0.9462 - val_loss: 0.1517 - val_accuracy: 0.9570\n",
            "Epoch 16/20\n",
            "540/540 - 2s - loss: 0.1794 - accuracy: 0.9485 - val_loss: 0.1483 - val_accuracy: 0.9590\n",
            "Epoch 17/20\n",
            "540/540 - 2s - loss: 0.1735 - accuracy: 0.9503 - val_loss: 0.1451 - val_accuracy: 0.9623\n",
            "Epoch 18/20\n",
            "540/540 - 2s - loss: 0.1680 - accuracy: 0.9519 - val_loss: 0.1396 - val_accuracy: 0.9617\n",
            "Epoch 19/20\n",
            "540/540 - 1s - loss: 0.1625 - accuracy: 0.9534 - val_loss: 0.1373 - val_accuracy: 0.9607\n",
            "Epoch 20/20\n",
            "540/540 - 1s - loss: 0.1577 - accuracy: 0.9547 - val_loss: 0.1323 - val_accuracy: 0.9627\n",
            "100/100 [==============================] - 0s 2ms/step - loss: 0.1573 - accuracy: 0.9543\n"
          ],
          "name": "stdout"
        }
      ]
    },
    {
      "cell_type": "markdown",
      "metadata": {
        "id": "hbvEg7PaX7_C"
      },
      "source": [
        "## Using Sigmoid"
      ]
    },
    {
      "cell_type": "code",
      "metadata": {
        "id": "K4gYVjbRX-VD",
        "outputId": "98a5f655-89c5-4226-80ac-562d54ffb1f0",
        "colab": {
          "base_uri": "https://localhost:8080/"
        }
      },
      "source": [
        "# Input Parameters\n",
        "n_input = 784 # number of features\n",
        "n_hidden_1 = 100\n",
        "n_hidden_2 = 100\n",
        "n_hidden_3 = 100\n",
        "num_digits = 10\n",
        "\n",
        "# Total Parameter = 99710\n",
        "\n",
        "Inp = Input(shape=(784,))\n",
        "x = Dense(n_hidden_1, activation='sigmoid', name = \"Hidden_Layer_1\")(Inp)\n",
        "x = Dense(n_hidden_2, activation='sigmoid', name = \"Hidden_Layer_2\")(x)\n",
        "output = Dense(num_digits, activation='softmax', name = \"Output_Layer\")(x)\n",
        "\n",
        "model = Model(Inp, output)\n",
        "\n",
        "# Insert Hyperparameters\n",
        "learning_rate = 0.1\n",
        "training_epochs = 20\n",
        "batch_size = 100\n",
        "sgd = optimizers.SGD(lr=learning_rate)\n",
        "\n",
        "# Using  Stochastic Gradient Descent as our optimizing methodology\n",
        "model.compile(loss='categorical_crossentropy',optimizer='sgd',metrics=['accuracy'])\n",
        "\n",
        "# Using 10 percent of training as validation data\n",
        "history1 = model.fit(x_train, y_train,batch_size = batch_size,epochs = training_epochs,verbose = 2,validation_split=0.1)\n",
        "\n",
        "loss_sigmoid, acc_sigmoid = model.evaluate(x_test, y_test, batch_size=batch_size)"
      ],
      "execution_count": 16,
      "outputs": [
        {
          "output_type": "stream",
          "text": [
            "Epoch 1/20\n",
            "540/540 - 1s - loss: 2.2903 - accuracy: 0.1685 - val_loss: 2.2553 - val_accuracy: 0.2422\n",
            "Epoch 2/20\n",
            "540/540 - 1s - loss: 2.2280 - accuracy: 0.3239 - val_loss: 2.1936 - val_accuracy: 0.4047\n",
            "Epoch 3/20\n",
            "540/540 - 1s - loss: 2.1551 - accuracy: 0.4388 - val_loss: 2.1035 - val_accuracy: 0.4133\n",
            "Epoch 4/20\n",
            "540/540 - 1s - loss: 2.0442 - accuracy: 0.4953 - val_loss: 1.9638 - val_accuracy: 0.5140\n",
            "Epoch 5/20\n",
            "540/540 - 1s - loss: 1.8823 - accuracy: 0.5444 - val_loss: 1.7715 - val_accuracy: 0.5718\n",
            "Epoch 6/20\n",
            "540/540 - 1s - loss: 1.6810 - accuracy: 0.5959 - val_loss: 1.5540 - val_accuracy: 0.6032\n",
            "Epoch 7/20\n",
            "540/540 - 1s - loss: 1.4754 - accuracy: 0.6409 - val_loss: 1.3486 - val_accuracy: 0.6887\n",
            "Epoch 8/20\n",
            "540/540 - 1s - loss: 1.2939 - accuracy: 0.6868 - val_loss: 1.1759 - val_accuracy: 0.7362\n",
            "Epoch 9/20\n",
            "540/540 - 1s - loss: 1.1445 - accuracy: 0.7248 - val_loss: 1.0347 - val_accuracy: 0.7863\n",
            "Epoch 10/20\n",
            "540/540 - 1s - loss: 1.0242 - accuracy: 0.7543 - val_loss: 0.9212 - val_accuracy: 0.7980\n",
            "Epoch 11/20\n",
            "540/540 - 1s - loss: 0.9273 - accuracy: 0.7746 - val_loss: 0.8295 - val_accuracy: 0.8190\n",
            "Epoch 12/20\n",
            "540/540 - 1s - loss: 0.8484 - accuracy: 0.7921 - val_loss: 0.7548 - val_accuracy: 0.8368\n",
            "Epoch 13/20\n",
            "540/540 - 1s - loss: 0.7831 - accuracy: 0.8073 - val_loss: 0.6925 - val_accuracy: 0.8490\n",
            "Epoch 14/20\n",
            "540/540 - 1s - loss: 0.7284 - accuracy: 0.8178 - val_loss: 0.6409 - val_accuracy: 0.8583\n",
            "Epoch 15/20\n",
            "540/540 - 1s - loss: 0.6823 - accuracy: 0.8284 - val_loss: 0.5965 - val_accuracy: 0.8678\n",
            "Epoch 16/20\n",
            "540/540 - 1s - loss: 0.6432 - accuracy: 0.8365 - val_loss: 0.5597 - val_accuracy: 0.8727\n",
            "Epoch 17/20\n",
            "540/540 - 1s - loss: 0.6097 - accuracy: 0.8436 - val_loss: 0.5281 - val_accuracy: 0.8778\n",
            "Epoch 18/20\n",
            "540/540 - 1s - loss: 0.5809 - accuracy: 0.8497 - val_loss: 0.5013 - val_accuracy: 0.8858\n",
            "Epoch 19/20\n",
            "540/540 - 1s - loss: 0.5560 - accuracy: 0.8551 - val_loss: 0.4782 - val_accuracy: 0.8900\n",
            "Epoch 20/20\n",
            "540/540 - 1s - loss: 0.5343 - accuracy: 0.8600 - val_loss: 0.4579 - val_accuracy: 0.8930\n",
            "100/100 [==============================] - 0s 2ms/step - loss: 0.5059 - accuracy: 0.8689\n"
          ],
          "name": "stdout"
        }
      ]
    },
    {
      "cell_type": "markdown",
      "metadata": {
        "id": "PhioIxQibbhu"
      },
      "source": [
        "## Result"
      ]
    },
    {
      "cell_type": "code",
      "metadata": {
        "id": "oPNqUe1Bbdeq",
        "outputId": "7a75a732-29b5-496e-c0d4-7c0d5414e265",
        "colab": {
          "base_uri": "https://localhost:8080/"
        }
      },
      "source": [
        "print(\"Accuracy achieved Using Relu activation function for Hidden Layer: \", round((acc_relu*100),2))\n",
        "print(\"Accuracy achieved Using Sigmoid activation function for Hidden Layer: \", round((acc_sigmoid*100),2))"
      ],
      "execution_count": 17,
      "outputs": [
        {
          "output_type": "stream",
          "text": [
            "Accuracy achieved Using Relu activation function for Hidden Layer:  95.43\n",
            "Accuracy achieved Using Sigmoid activation function for Hidden Layer:  86.89\n"
          ],
          "name": "stdout"
        }
      ]
    },
    {
      "cell_type": "markdown",
      "metadata": {
        "id": "NNNjgzWxb7_p"
      },
      "source": [
        "# 3. Not using any nonlinearity in the network"
      ]
    },
    {
      "cell_type": "code",
      "metadata": {
        "id": "_5Nx0wPzb-Sh",
        "outputId": "a0711214-68f3-4db4-b687-5b8ea3d90a1f",
        "colab": {
          "base_uri": "https://localhost:8080/"
        }
      },
      "source": [
        "# Input Parameters\n",
        "n_input = 784 # number of features\n",
        "n_hidden_1 = 100\n",
        "n_hidden_2 = 100\n",
        "n_hidden_3 = 100\n",
        "num_digits = 10\n",
        "\n",
        "# Total Parameter = 99710\n",
        "\n",
        "Inp = Input(shape=(784,))\n",
        "x = Dense(n_hidden_1, activation='linear', name = \"Hidden_Layer_1\")(Inp)\n",
        "x = Dense(n_hidden_2, activation='linear', name = \"Hidden_Layer_2\")(x)\n",
        "output = Dense(num_digits, activation='softmax', name = \"Output_Layer\")(x)\n",
        "\n",
        "model = Model(Inp, output)\n",
        "\n",
        "# Insert Hyperparameters\n",
        "learning_rate = 0.1\n",
        "training_epochs = 20\n",
        "batch_size = 100\n",
        "sgd = optimizers.SGD(lr=learning_rate)\n",
        "\n",
        "# Using  Stochastic Gradient Descent as our optimizing methodology\n",
        "model.compile(loss='categorical_crossentropy',optimizer='sgd',metrics=['accuracy'])\n",
        "\n",
        "# Using 10 percent of training as validation data\n",
        "history1 = model.fit(x_train, y_train,batch_size = batch_size,epochs = training_epochs,verbose = 2,validation_split=0.1)\n",
        "\n",
        "loss_linear, acc_linear = model.evaluate(x_test, y_test, batch_size=batch_size)"
      ],
      "execution_count": 18,
      "outputs": [
        {
          "output_type": "stream",
          "text": [
            "Epoch 1/20\n",
            "540/540 - 1s - loss: 0.8362 - accuracy: 0.7785 - val_loss: 0.4022 - val_accuracy: 0.8962\n",
            "Epoch 2/20\n",
            "540/540 - 1s - loss: 0.4252 - accuracy: 0.8826 - val_loss: 0.3177 - val_accuracy: 0.9132\n",
            "Epoch 3/20\n",
            "540/540 - 1s - loss: 0.3711 - accuracy: 0.8951 - val_loss: 0.2907 - val_accuracy: 0.9195\n",
            "Epoch 4/20\n",
            "540/540 - 1s - loss: 0.3471 - accuracy: 0.9015 - val_loss: 0.2774 - val_accuracy: 0.9223\n",
            "Epoch 5/20\n",
            "540/540 - 1s - loss: 0.3323 - accuracy: 0.9055 - val_loss: 0.2690 - val_accuracy: 0.9227\n",
            "Epoch 6/20\n",
            "540/540 - 1s - loss: 0.3226 - accuracy: 0.9083 - val_loss: 0.2619 - val_accuracy: 0.9273\n",
            "Epoch 7/20\n",
            "540/540 - 1s - loss: 0.3149 - accuracy: 0.9108 - val_loss: 0.2584 - val_accuracy: 0.9278\n",
            "Epoch 8/20\n",
            "540/540 - 1s - loss: 0.3092 - accuracy: 0.9120 - val_loss: 0.2547 - val_accuracy: 0.9285\n",
            "Epoch 9/20\n",
            "540/540 - 1s - loss: 0.3043 - accuracy: 0.9145 - val_loss: 0.2527 - val_accuracy: 0.9295\n",
            "Epoch 10/20\n",
            "540/540 - 1s - loss: 0.3004 - accuracy: 0.9157 - val_loss: 0.2486 - val_accuracy: 0.9295\n",
            "Epoch 11/20\n",
            "540/540 - 1s - loss: 0.2970 - accuracy: 0.9165 - val_loss: 0.2487 - val_accuracy: 0.9268\n",
            "Epoch 12/20\n",
            "540/540 - 1s - loss: 0.2939 - accuracy: 0.9173 - val_loss: 0.2459 - val_accuracy: 0.9298\n",
            "Epoch 13/20\n",
            "540/540 - 1s - loss: 0.2914 - accuracy: 0.9176 - val_loss: 0.2440 - val_accuracy: 0.9285\n",
            "Epoch 14/20\n",
            "540/540 - 1s - loss: 0.2888 - accuracy: 0.9190 - val_loss: 0.2444 - val_accuracy: 0.9278\n",
            "Epoch 15/20\n",
            "540/540 - 1s - loss: 0.2869 - accuracy: 0.9195 - val_loss: 0.2414 - val_accuracy: 0.9303\n",
            "Epoch 16/20\n",
            "540/540 - 1s - loss: 0.2851 - accuracy: 0.9203 - val_loss: 0.2401 - val_accuracy: 0.9313\n",
            "Epoch 17/20\n",
            "540/540 - 1s - loss: 0.2830 - accuracy: 0.9204 - val_loss: 0.2410 - val_accuracy: 0.9310\n",
            "Epoch 18/20\n",
            "540/540 - 1s - loss: 0.2814 - accuracy: 0.9215 - val_loss: 0.2399 - val_accuracy: 0.9303\n",
            "Epoch 19/20\n",
            "540/540 - 1s - loss: 0.2802 - accuracy: 0.9217 - val_loss: 0.2400 - val_accuracy: 0.9320\n",
            "Epoch 20/20\n",
            "540/540 - 1s - loss: 0.2786 - accuracy: 0.9215 - val_loss: 0.2383 - val_accuracy: 0.9342\n",
            "100/100 [==============================] - 0s 2ms/step - loss: 0.2750 - accuracy: 0.9215\n"
          ],
          "name": "stdout"
        }
      ]
    },
    {
      "cell_type": "code",
      "metadata": {
        "id": "wEZCt2Crcp4B",
        "outputId": "8383c818-af09-416f-b51e-4ccdd04bd744",
        "colab": {
          "base_uri": "https://localhost:8080/"
        }
      },
      "source": [
        "print(\"Accuracy achieved Using Linear activation function for Hidden Layer: \", round((acc_linear*100),2))"
      ],
      "execution_count": 19,
      "outputs": [
        {
          "output_type": "stream",
          "text": [
            "Accuracy achieved Using Linear activation function for Hidden Layer:  92.15\n"
          ],
          "name": "stdout"
        }
      ]
    },
    {
      "cell_type": "code",
      "metadata": {
        "id": "TCb1szC7c8XL"
      },
      "source": [
        ""
      ],
      "execution_count": 19,
      "outputs": []
    }
  ]
}