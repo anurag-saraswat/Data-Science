{
  "nbformat": 4,
  "nbformat_minor": 0,
  "metadata": {
    "colab": {
      "name": "ML Assignment1",
      "provenance": [],
      "collapsed_sections": [
        "hrERDIlS5O-F",
        "WWWQUWQw6RvE",
        "lf5k7YDgxHZV",
        "LfL9faij5SRL",
        "eswRqCZwCyFA"
      ]
    },
    "kernelspec": {
      "name": "python3",
      "display_name": "Python 3"
    }
  },
  "cells": [
    {
      "cell_type": "markdown",
      "metadata": {
        "id": "hrERDIlS5O-F",
        "colab_type": "text"
      },
      "source": [
        "\n",
        "\n",
        "\n",
        "\n",
        "\n",
        "\n",
        "\n",
        "\n",
        "\n",
        "\n",
        "\n",
        "\n",
        "\n",
        "\n",
        "\n",
        "\n",
        "\n",
        "\n",
        "\n",
        "\n",
        "\n",
        "\n",
        "\n",
        "\n",
        "\n",
        "\n",
        "\n",
        "\n",
        "\n",
        "\n",
        "\n",
        "\n",
        "\n",
        "\n",
        "\n",
        "\n",
        "\n",
        "\n",
        "\n",
        "\n",
        "\n",
        "\n",
        "\n",
        "\n",
        "\n",
        "\n",
        "\n",
        "\n",
        "\n",
        "\n",
        "\n",
        "\n",
        "\n",
        "\n",
        "\n",
        "\n",
        "\n",
        "\n",
        "\n",
        "\n",
        "\n",
        "\n",
        "\n",
        "\n",
        "\n",
        "\n",
        "\n",
        "\n",
        "\n",
        "\n",
        "\n",
        "\n",
        "\n",
        "\n",
        "\n",
        "\n",
        "\n",
        "\n",
        "\n",
        "\n",
        "\n",
        "\n",
        "\n",
        "\n",
        "\n",
        "\n",
        "\n",
        "\n",
        "\n",
        "\n",
        "\n",
        "\n",
        "\n",
        "\n",
        "\n",
        "\n",
        "\n",
        "\n",
        "\n",
        "\n",
        "\n",
        "\n",
        "\n",
        "\n",
        "\n",
        "\n",
        "\n",
        "\n",
        "\n",
        "\n",
        "\n",
        "\n",
        "\n",
        "\n",
        "\n",
        "\n",
        "\n",
        "\n",
        "\n",
        "\n",
        "\n",
        "\n",
        "\n",
        "\n",
        "\n",
        "\n",
        "\n",
        "\n",
        "\n",
        "\n",
        "\n",
        "\n",
        "\n",
        "\n",
        "\n",
        "\n",
        "\n",
        "\n",
        "\n",
        "\n",
        "\n",
        "\n",
        "\n",
        "\n",
        "\n",
        "\n",
        "\n",
        "\n",
        "\n",
        "\n",
        "\n",
        "\n",
        "\n",
        "\n",
        "\n",
        "\n",
        "\n",
        "\n",
        "\n",
        "\n",
        "\n",
        "\n",
        "\n",
        "\n",
        "\n",
        "\n",
        "\n",
        "\n",
        "\n",
        "\n",
        "\n",
        "\n",
        "\n",
        "\n",
        "\n",
        "\n",
        "\n",
        "\n",
        "\n",
        "\n",
        "\n",
        "\n",
        "\n",
        "\n",
        "\n",
        "\n",
        "\n",
        "\n",
        "\n",
        "\n",
        "\n",
        "\n",
        "\n",
        "\n",
        "\n",
        "\n",
        "\n",
        "\n",
        "\n",
        "\n",
        "\n",
        "\n",
        "\n",
        "\n",
        "\n",
        "\n",
        "\n",
        "\n",
        "# Familiarization with Python Pandas library\n"
      ]
    },
    {
      "cell_type": "markdown",
      "metadata": {
        "id": "8jb757mn51r5",
        "colab_type": "text"
      },
      "source": [
        "### 1) Use Python lists and dictionaries. How to do slicing of lists using the colon (:) specifications. "
      ]
    },
    {
      "cell_type": "markdown",
      "metadata": {
        "id": "WWWQUWQw6RvE",
        "colab_type": "text"
      },
      "source": [
        "#### Python List"
      ]
    },
    {
      "cell_type": "markdown",
      "metadata": {
        "id": "n-HI3WJzT-1j",
        "colab_type": "text"
      },
      "source": [
        "-> List is one of the Sequence Data structure\n",
        "\n",
        "-> Lists are collection of items (Strings, integers or even other lists)\n",
        "\n",
        "-> Lists are enclosed in [ ]\n",
        "\n",
        "-> Each item in the list has an assigned index value.\n",
        "\n",
        "-> Each item in a list is separated by a comma\n",
        "\n",
        "-> Lists are mutable, which means they can be changed."
      ]
    },
    {
      "cell_type": "code",
      "metadata": {
        "id": "PjtxLKyF6V_8",
        "colab_type": "code",
        "colab": {
          "base_uri": "https://localhost:8080/",
          "height": 85
        },
        "outputId": "e5dfeb93-e874-4daf-8d72-753d33557050"
      },
      "source": [
        "# Creation \n",
        "empty_List = []\n",
        "lst = [1,2,3,4,5] # List of numbers\n",
        "lst1 = [[1,2,3],[3,4,5]] # List of Lists\n",
        "lst2 = [1,'a',2,'b'] #List of different data type\n",
        "\n",
        "print(empty_List, lst, lst1, lst2, sep='\\n')\n"
      ],
      "execution_count": null,
      "outputs": [
        {
          "output_type": "stream",
          "text": [
            "[]\n",
            "[1, 2, 3, 4, 5]\n",
            "[[1, 2, 3], [3, 4, 5]]\n",
            "[1, 'a', 2, 'b']\n"
          ],
          "name": "stdout"
        }
      ]
    },
    {
      "cell_type": "code",
      "metadata": {
        "id": "eK7zRtiQP26r",
        "colab_type": "code",
        "colab": {
          "base_uri": "https://localhost:8080/",
          "height": 34
        },
        "outputId": "b28b9dee-e880-441b-b3fc-cde996510ec3"
      },
      "source": [
        "# Append\n",
        "lst = [1,2,3]\n",
        "lst.append(4) # Append will add item at the end\n",
        "print(lst)\n"
      ],
      "execution_count": null,
      "outputs": [
        {
          "output_type": "stream",
          "text": [
            "[1, 2, 3, 4]\n"
          ],
          "name": "stdout"
        }
      ]
    },
    {
      "cell_type": "code",
      "metadata": {
        "id": "GuDjMVkjTFEZ",
        "colab_type": "code",
        "colab": {
          "base_uri": "https://localhost:8080/",
          "height": 34
        },
        "outputId": "cebcf1d0-4cd2-495d-cd6b-7ecb236d38d5"
      },
      "source": [
        "# Insert\n",
        "lst.insert(2,'Two') # Will add element 'Two' at location index 2\n",
        "print(lst)"
      ],
      "execution_count": null,
      "outputs": [
        {
          "output_type": "stream",
          "text": [
            "[1, 2, 'Two', 3, 4]\n"
          ],
          "name": "stdout"
        }
      ]
    },
    {
      "cell_type": "code",
      "metadata": {
        "id": "yiD_8moNd-XP",
        "colab_type": "code",
        "colab": {
          "base_uri": "https://localhost:8080/",
          "height": 34
        },
        "outputId": "8e360472-23dc-4cdd-f31e-d1fb043f87fc"
      },
      "source": [
        "# Remove\n",
        "lst.remove('Two') # Remove first occurence of 'Two'\n",
        "print(lst)"
      ],
      "execution_count": null,
      "outputs": [
        {
          "output_type": "stream",
          "text": [
            "[1, 2, 3, 4]\n"
          ],
          "name": "stdout"
        }
      ]
    },
    {
      "cell_type": "code",
      "metadata": {
        "id": "GcRiR5AlfHkI",
        "colab_type": "code",
        "colab": {
          "base_uri": "https://localhost:8080/",
          "height": 34
        },
        "outputId": "b2ed17c5-703a-44e6-a461-caf29cea9625"
      },
      "source": [
        "# List Slicing\n",
        "# Accessing parts of segments is called slicing.\n",
        "\n",
        "lst = [0,1,2,3,4,5,6,7,8,9]\n",
        "\n",
        "print(lst[:]) #Print all Elements"
      ],
      "execution_count": null,
      "outputs": [
        {
          "output_type": "stream",
          "text": [
            "[0, 1, 2, 3, 4, 5, 6, 7, 8, 9]\n"
          ],
          "name": "stdout"
        }
      ]
    },
    {
      "cell_type": "code",
      "metadata": {
        "id": "rlI4ygN8gA2j",
        "colab_type": "code",
        "colab": {
          "base_uri": "https://localhost:8080/",
          "height": 34
        },
        "outputId": "09b8c816-fc7d-4dc4-e01f-a14cbe464f44"
      },
      "source": [
        "#Print Alternae Elements\n",
        "print(lst[ : :2])"
      ],
      "execution_count": null,
      "outputs": [
        {
          "output_type": "stream",
          "text": [
            "[0, 2, 4, 6, 8]\n"
          ],
          "name": "stdout"
        }
      ]
    },
    {
      "cell_type": "code",
      "metadata": {
        "id": "F0Mc9GPavmyn",
        "colab_type": "code",
        "colab": {
          "base_uri": "https://localhost:8080/",
          "height": 34
        },
        "outputId": "4cd6537f-67ec-4129-ba29-81cf58b73c00"
      },
      "source": [
        "#Print Element from index 1(Included) to 3(Excluded)\n",
        "print(lst[1:3])"
      ],
      "execution_count": null,
      "outputs": [
        {
          "output_type": "stream",
          "text": [
            "[1, 2]\n"
          ],
          "name": "stdout"
        }
      ]
    },
    {
      "cell_type": "code",
      "metadata": {
        "id": "9tnxCFOIwWY7",
        "colab_type": "code",
        "colab": {
          "base_uri": "https://localhost:8080/",
          "height": 34
        },
        "outputId": "774f0a2b-f4f4-400c-9f53-25c28170a0b1"
      },
      "source": [
        "#Reversing Element of list\n",
        "print(lst[::-1])"
      ],
      "execution_count": null,
      "outputs": [
        {
          "output_type": "stream",
          "text": [
            "[9, 8, 7, 6, 5, 4, 3, 2, 1, 0]\n"
          ],
          "name": "stdout"
        }
      ]
    },
    {
      "cell_type": "markdown",
      "metadata": {
        "id": "lf5k7YDgxHZV",
        "colab_type": "text"
      },
      "source": [
        "#### Python Dictionary"
      ]
    },
    {
      "cell_type": "markdown",
      "metadata": {
        "id": "qyiahkcgUFGf",
        "colab_type": "text"
      },
      "source": [
        "Python dictionary is an unordered collection of items. While other compound data types have only value as an element, a dictionary has a pair."
      ]
    },
    {
      "cell_type": "code",
      "metadata": {
        "id": "RCycraYzxTuj",
        "colab_type": "code",
        "colab": {
          "base_uri": "https://localhost:8080/",
          "height": 102
        },
        "outputId": "1dfbadee-e67e-4b7b-c524-2351bfc1d015"
      },
      "source": [
        "# Creation\n",
        "\n",
        "#Creating Empty Dictionary\n",
        "Empty_dict = {}\n",
        "\n",
        "#dictionary with integer keys\n",
        "my_dict1 = {1: 'abc', 2: 'xyz'}\n",
        "\n",
        "#dictionary with mixed keys\n",
        "my_dict2 = {'name': 'Anurag', 1: ['abc', 'xyz']}\n",
        "\n",
        "#create empty dictionary using dict()\n",
        "my_dict3 = dict()\n",
        "\n",
        "#create a dict with list of tuples\n",
        "my_dict4 = dict([(1, 'abc'), (2, 'xyz')])    \n",
        "\n",
        "print(Empty_dict, my_dict1, my_dict2, my_dict3, my_dict3, sep='\\n')"
      ],
      "execution_count": null,
      "outputs": [
        {
          "output_type": "stream",
          "text": [
            "{}\n",
            "{1: 'abc', 2: 'xyz'}\n",
            "{'name': 'Anurag', 1: ['abc', 'xyz']}\n",
            "{}\n",
            "{}\n"
          ],
          "name": "stdout"
        }
      ]
    },
    {
      "cell_type": "code",
      "metadata": {
        "id": "AinScsv5yuhh",
        "colab_type": "code",
        "colab": {
          "base_uri": "https://localhost:8080/",
          "height": 68
        },
        "outputId": "8e089767-eaba-4822-ab30-ab2eed66ca22"
      },
      "source": [
        "# Access\n",
        "\n",
        "my_dict = {'Name': 'Anurag', 'Age': 23, 'Address': 'KOTA'}\n",
        "\n",
        "#get attributes\n",
        "print(\"Name is :\",my_dict['Name'])\n",
        "print(\"Age is :\",my_dict['Age'])\n",
        "print(\"Address is :\",my_dict.get('Address')) #Another way of accessing Dictionary\n"
      ],
      "execution_count": null,
      "outputs": [
        {
          "output_type": "stream",
          "text": [
            "Name is : Anurag\n",
            "Age is : 23\n",
            "Address is : KOTA\n"
          ],
          "name": "stdout"
        }
      ]
    },
    {
      "cell_type": "code",
      "metadata": {
        "id": "-koEQAtCzOy1",
        "colab_type": "code",
        "colab": {
          "base_uri": "https://localhost:8080/",
          "height": 34
        },
        "outputId": "12ce151f-cb12-402d-b6ce-e48823efa236"
      },
      "source": [
        "# Add and Modify\n",
        "\n",
        "# Update Key\n",
        "my_dict['Name'] = 'Saraswat'\n",
        "\n",
        "# Add New Key-Value Pair\n",
        "my_dict['Degree'] = 'M.Tech'\n",
        "\n",
        "print(my_dict)\n"
      ],
      "execution_count": null,
      "outputs": [
        {
          "output_type": "stream",
          "text": [
            "{'Name': 'Saraswat', 'Age': 23, 'Address': 'KOTA', 'Degree': 'M.Tech'}\n"
          ],
          "name": "stdout"
        }
      ]
    },
    {
      "cell_type": "code",
      "metadata": {
        "id": "TSHCgp2h03Ba",
        "colab_type": "code",
        "colab": {
          "base_uri": "https://localhost:8080/",
          "height": 68
        },
        "outputId": "65352bcf-25a0-4999-dcb6-38427e53120d"
      },
      "source": [
        "# Remove Element\n",
        "\n",
        "# remove a particular item\n",
        "print(my_dict.pop('Age'))\n",
        "\n",
        "del my_dict['Address']\n",
        "\n",
        "# remove an arbitarty key\n",
        "print(my_dict.popitem())\n",
        "\n",
        "print(my_dict)\n"
      ],
      "execution_count": null,
      "outputs": [
        {
          "output_type": "stream",
          "text": [
            "23\n",
            "('Degree', 'M.Tech')\n",
            "{'Name': 'Saraswat'}\n"
          ],
          "name": "stdout"
        }
      ]
    },
    {
      "cell_type": "markdown",
      "metadata": {
        "id": "LfL9faij5SRL",
        "colab_type": "text"
      },
      "source": [
        "### 2) Create a DataFrame object from the data loaded from a dataset. \n",
        "\n",
        "### 3) Print various rows and columns of the dataset. \n",
        "\n",
        "### 4) Print a subset of rows and a subset of columns\n",
        "\n"
      ]
    },
    {
      "cell_type": "code",
      "metadata": {
        "id": "xwWuefvx5pm4",
        "colab_type": "code",
        "colab": {}
      },
      "source": [
        "# Import Pandas\n",
        "import pandas as pd"
      ],
      "execution_count": null,
      "outputs": []
    },
    {
      "cell_type": "code",
      "metadata": {
        "id": "5urKYUrSsRjJ",
        "colab_type": "code",
        "colab": {
          "base_uri": "https://localhost:8080/",
          "height": 224
        },
        "outputId": "1be4be2f-333e-4aea-c1ca-444c908a63f4"
      },
      "source": [
        "# Reading Data from sample csv file provided in colab by default\n",
        "# california_housing Data set\n",
        "\n",
        "my_data = pd.read_csv('./sample_data/california_housing_test.csv')\n",
        "\n",
        "my_data.head() #By Default Print Data of first five rows"
      ],
      "execution_count": null,
      "outputs": [
        {
          "output_type": "execute_result",
          "data": {
            "text/html": [
              "<div>\n",
              "<style scoped>\n",
              "    .dataframe tbody tr th:only-of-type {\n",
              "        vertical-align: middle;\n",
              "    }\n",
              "\n",
              "    .dataframe tbody tr th {\n",
              "        vertical-align: top;\n",
              "    }\n",
              "\n",
              "    .dataframe thead th {\n",
              "        text-align: right;\n",
              "    }\n",
              "</style>\n",
              "<table border=\"1\" class=\"dataframe\">\n",
              "  <thead>\n",
              "    <tr style=\"text-align: right;\">\n",
              "      <th></th>\n",
              "      <th>longitude</th>\n",
              "      <th>latitude</th>\n",
              "      <th>housing_median_age</th>\n",
              "      <th>total_rooms</th>\n",
              "      <th>total_bedrooms</th>\n",
              "      <th>population</th>\n",
              "      <th>households</th>\n",
              "      <th>median_income</th>\n",
              "      <th>median_house_value</th>\n",
              "    </tr>\n",
              "  </thead>\n",
              "  <tbody>\n",
              "    <tr>\n",
              "      <th>0</th>\n",
              "      <td>-122.05</td>\n",
              "      <td>37.37</td>\n",
              "      <td>27.0</td>\n",
              "      <td>3885.0</td>\n",
              "      <td>661.0</td>\n",
              "      <td>1537.0</td>\n",
              "      <td>606.0</td>\n",
              "      <td>6.6085</td>\n",
              "      <td>344700.0</td>\n",
              "    </tr>\n",
              "    <tr>\n",
              "      <th>1</th>\n",
              "      <td>-118.30</td>\n",
              "      <td>34.26</td>\n",
              "      <td>43.0</td>\n",
              "      <td>1510.0</td>\n",
              "      <td>310.0</td>\n",
              "      <td>809.0</td>\n",
              "      <td>277.0</td>\n",
              "      <td>3.5990</td>\n",
              "      <td>176500.0</td>\n",
              "    </tr>\n",
              "    <tr>\n",
              "      <th>2</th>\n",
              "      <td>-117.81</td>\n",
              "      <td>33.78</td>\n",
              "      <td>27.0</td>\n",
              "      <td>3589.0</td>\n",
              "      <td>507.0</td>\n",
              "      <td>1484.0</td>\n",
              "      <td>495.0</td>\n",
              "      <td>5.7934</td>\n",
              "      <td>270500.0</td>\n",
              "    </tr>\n",
              "    <tr>\n",
              "      <th>3</th>\n",
              "      <td>-118.36</td>\n",
              "      <td>33.82</td>\n",
              "      <td>28.0</td>\n",
              "      <td>67.0</td>\n",
              "      <td>15.0</td>\n",
              "      <td>49.0</td>\n",
              "      <td>11.0</td>\n",
              "      <td>6.1359</td>\n",
              "      <td>330000.0</td>\n",
              "    </tr>\n",
              "    <tr>\n",
              "      <th>4</th>\n",
              "      <td>-119.67</td>\n",
              "      <td>36.33</td>\n",
              "      <td>19.0</td>\n",
              "      <td>1241.0</td>\n",
              "      <td>244.0</td>\n",
              "      <td>850.0</td>\n",
              "      <td>237.0</td>\n",
              "      <td>2.9375</td>\n",
              "      <td>81700.0</td>\n",
              "    </tr>\n",
              "  </tbody>\n",
              "</table>\n",
              "</div>"
            ],
            "text/plain": [
              "   longitude  latitude  ...  median_income  median_house_value\n",
              "0    -122.05     37.37  ...         6.6085            344700.0\n",
              "1    -118.30     34.26  ...         3.5990            176500.0\n",
              "2    -117.81     33.78  ...         5.7934            270500.0\n",
              "3    -118.36     33.82  ...         6.1359            330000.0\n",
              "4    -119.67     36.33  ...         2.9375             81700.0\n",
              "\n",
              "[5 rows x 9 columns]"
            ]
          },
          "metadata": {
            "tags": []
          },
          "execution_count": 39
        }
      ]
    },
    {
      "cell_type": "code",
      "metadata": {
        "id": "azsWE57QvpAx",
        "colab_type": "code",
        "colab": {
          "base_uri": "https://localhost:8080/",
          "height": 85
        },
        "outputId": "6e4f9265-0276-419a-b8cf-1476b56c9d10"
      },
      "source": [
        "my_data.columns #Displays Columns"
      ],
      "execution_count": null,
      "outputs": [
        {
          "output_type": "execute_result",
          "data": {
            "text/plain": [
              "Index(['longitude', 'latitude', 'housing_median_age', 'total_rooms',\n",
              "       'total_bedrooms', 'population', 'households', 'median_income',\n",
              "       'median_house_value'],\n",
              "      dtype='object')"
            ]
          },
          "metadata": {
            "tags": []
          },
          "execution_count": 40
        }
      ]
    },
    {
      "cell_type": "code",
      "metadata": {
        "id": "tXYmF0RF3OqR",
        "colab_type": "code",
        "colab": {
          "base_uri": "https://localhost:8080/",
          "height": 187
        },
        "outputId": "4f386fd8-1b10-4954-a708-600d297ff963"
      },
      "source": [
        "# Accessing Data of particular row\n",
        "my_data.iloc[3] #Returning data of 3rd row"
      ],
      "execution_count": null,
      "outputs": [
        {
          "output_type": "execute_result",
          "data": {
            "text/plain": [
              "longitude               -118.3600\n",
              "latitude                  33.8200\n",
              "housing_median_age        28.0000\n",
              "total_rooms               67.0000\n",
              "total_bedrooms            15.0000\n",
              "population                49.0000\n",
              "households                11.0000\n",
              "median_income              6.1359\n",
              "median_house_value    330000.0000\n",
              "Name: 3, dtype: float64"
            ]
          },
          "metadata": {
            "tags": []
          },
          "execution_count": 41
        }
      ]
    },
    {
      "cell_type": "code",
      "metadata": {
        "id": "6M4-8-3ixxFA",
        "colab_type": "code",
        "colab": {
          "base_uri": "https://localhost:8080/",
          "height": 34
        },
        "outputId": "100dc367-f78c-47e9-a2df-6d7016ef5fb6"
      },
      "source": [
        "# Accessing data of particular row and column\n",
        "my_data.iloc[3,1] #Print data of first 3 row and first column"
      ],
      "execution_count": null,
      "outputs": [
        {
          "output_type": "execute_result",
          "data": {
            "text/plain": [
              "33.82"
            ]
          },
          "metadata": {
            "tags": []
          },
          "execution_count": 42
        }
      ]
    },
    {
      "cell_type": "code",
      "metadata": {
        "id": "fdPKqRZb30-8",
        "colab_type": "code",
        "colab": {
          "base_uri": "https://localhost:8080/",
          "height": 85
        },
        "outputId": "eb62db26-85ab-4363-bab2-6d8809138424"
      },
      "source": [
        "my_data.iloc[3,[1,2,3]] #Print data of first row and 1,2,3 column"
      ],
      "execution_count": null,
      "outputs": [
        {
          "output_type": "execute_result",
          "data": {
            "text/plain": [
              "latitude              33.82\n",
              "housing_median_age    28.00\n",
              "total_rooms           67.00\n",
              "Name: 3, dtype: float64"
            ]
          },
          "metadata": {
            "tags": []
          },
          "execution_count": 43
        }
      ]
    },
    {
      "cell_type": "code",
      "metadata": {
        "id": "ZfR0iLfJ4qVh",
        "colab_type": "code",
        "colab": {
          "base_uri": "https://localhost:8080/",
          "height": 204
        },
        "outputId": "13791cfd-ffc7-4d2e-cfc7-3dc91c64f379"
      },
      "source": [
        "# Slicing\n",
        "\n",
        "my_data.iloc[:5,[1,2,3]] #Return data of first five row and first three column"
      ],
      "execution_count": null,
      "outputs": [
        {
          "output_type": "execute_result",
          "data": {
            "text/html": [
              "<div>\n",
              "<style scoped>\n",
              "    .dataframe tbody tr th:only-of-type {\n",
              "        vertical-align: middle;\n",
              "    }\n",
              "\n",
              "    .dataframe tbody tr th {\n",
              "        vertical-align: top;\n",
              "    }\n",
              "\n",
              "    .dataframe thead th {\n",
              "        text-align: right;\n",
              "    }\n",
              "</style>\n",
              "<table border=\"1\" class=\"dataframe\">\n",
              "  <thead>\n",
              "    <tr style=\"text-align: right;\">\n",
              "      <th></th>\n",
              "      <th>latitude</th>\n",
              "      <th>housing_median_age</th>\n",
              "      <th>total_rooms</th>\n",
              "    </tr>\n",
              "  </thead>\n",
              "  <tbody>\n",
              "    <tr>\n",
              "      <th>0</th>\n",
              "      <td>37.37</td>\n",
              "      <td>27.0</td>\n",
              "      <td>3885.0</td>\n",
              "    </tr>\n",
              "    <tr>\n",
              "      <th>1</th>\n",
              "      <td>34.26</td>\n",
              "      <td>43.0</td>\n",
              "      <td>1510.0</td>\n",
              "    </tr>\n",
              "    <tr>\n",
              "      <th>2</th>\n",
              "      <td>33.78</td>\n",
              "      <td>27.0</td>\n",
              "      <td>3589.0</td>\n",
              "    </tr>\n",
              "    <tr>\n",
              "      <th>3</th>\n",
              "      <td>33.82</td>\n",
              "      <td>28.0</td>\n",
              "      <td>67.0</td>\n",
              "    </tr>\n",
              "    <tr>\n",
              "      <th>4</th>\n",
              "      <td>36.33</td>\n",
              "      <td>19.0</td>\n",
              "      <td>1241.0</td>\n",
              "    </tr>\n",
              "  </tbody>\n",
              "</table>\n",
              "</div>"
            ],
            "text/plain": [
              "   latitude  housing_median_age  total_rooms\n",
              "0     37.37                27.0       3885.0\n",
              "1     34.26                43.0       1510.0\n",
              "2     33.78                27.0       3589.0\n",
              "3     33.82                28.0         67.0\n",
              "4     36.33                19.0       1241.0"
            ]
          },
          "metadata": {
            "tags": []
          },
          "execution_count": 44
        }
      ]
    },
    {
      "cell_type": "code",
      "metadata": {
        "id": "RWIOmTf65JJf",
        "colab_type": "code",
        "colab": {
          "base_uri": "https://localhost:8080/",
          "height": 204
        },
        "outputId": "9c04fab7-d368-4de8-d23b-bb0b98e8d8f1"
      },
      "source": [
        "# Creating new data frame from existing data frame\n",
        "# Only data of longitude and latitude is present in new data frame\n",
        "new_df = pd.DataFrame(my_data,columns=['longitude','latitude'])  \n",
        "new_df.head()"
      ],
      "execution_count": null,
      "outputs": [
        {
          "output_type": "execute_result",
          "data": {
            "text/html": [
              "<div>\n",
              "<style scoped>\n",
              "    .dataframe tbody tr th:only-of-type {\n",
              "        vertical-align: middle;\n",
              "    }\n",
              "\n",
              "    .dataframe tbody tr th {\n",
              "        vertical-align: top;\n",
              "    }\n",
              "\n",
              "    .dataframe thead th {\n",
              "        text-align: right;\n",
              "    }\n",
              "</style>\n",
              "<table border=\"1\" class=\"dataframe\">\n",
              "  <thead>\n",
              "    <tr style=\"text-align: right;\">\n",
              "      <th></th>\n",
              "      <th>longitude</th>\n",
              "      <th>latitude</th>\n",
              "    </tr>\n",
              "  </thead>\n",
              "  <tbody>\n",
              "    <tr>\n",
              "      <th>0</th>\n",
              "      <td>-122.05</td>\n",
              "      <td>37.37</td>\n",
              "    </tr>\n",
              "    <tr>\n",
              "      <th>1</th>\n",
              "      <td>-118.30</td>\n",
              "      <td>34.26</td>\n",
              "    </tr>\n",
              "    <tr>\n",
              "      <th>2</th>\n",
              "      <td>-117.81</td>\n",
              "      <td>33.78</td>\n",
              "    </tr>\n",
              "    <tr>\n",
              "      <th>3</th>\n",
              "      <td>-118.36</td>\n",
              "      <td>33.82</td>\n",
              "    </tr>\n",
              "    <tr>\n",
              "      <th>4</th>\n",
              "      <td>-119.67</td>\n",
              "      <td>36.33</td>\n",
              "    </tr>\n",
              "  </tbody>\n",
              "</table>\n",
              "</div>"
            ],
            "text/plain": [
              "   longitude  latitude\n",
              "0    -122.05     37.37\n",
              "1    -118.30     34.26\n",
              "2    -117.81     33.78\n",
              "3    -118.36     33.82\n",
              "4    -119.67     36.33"
            ]
          },
          "metadata": {
            "tags": []
          },
          "execution_count": 45
        }
      ]
    },
    {
      "cell_type": "markdown",
      "metadata": {
        "id": "eswRqCZwCyFA",
        "colab_type": "text"
      },
      "source": [
        "### 5) How to group (aggregate) specific columns that correspond to certain specific values of rows. (use DataFrame.groupby())"
      ]
    },
    {
      "cell_type": "markdown",
      "metadata": {
        "id": "jK5yXRmWO6uE",
        "colab_type": "text"
      },
      "source": [
        "Gouping above data i.e california_housing dataset on the basis of Housing Median Age and creating new data frame as new_df"
      ]
    },
    {
      "cell_type": "code",
      "metadata": {
        "id": "J9-RzZX3CyxY",
        "colab_type": "code",
        "colab": {}
      },
      "source": [
        "\n",
        "new_df = my_data.groupby(['housing_median_age'], as_index=False)"
      ],
      "execution_count": null,
      "outputs": []
    },
    {
      "cell_type": "code",
      "metadata": {
        "id": "wGL3YU8MSnS1",
        "colab_type": "code",
        "colab": {
          "base_uri": "https://localhost:8080/",
          "height": 224
        },
        "outputId": "49f13207-b9b6-45b4-de39-32d7c12f52de"
      },
      "source": [
        "# Presenting Mean of Columns grouped by housing_median_age\n",
        "new_df.mean().head()"
      ],
      "execution_count": null,
      "outputs": [
        {
          "output_type": "execute_result",
          "data": {
            "text/html": [
              "<div>\n",
              "<style scoped>\n",
              "    .dataframe tbody tr th:only-of-type {\n",
              "        vertical-align: middle;\n",
              "    }\n",
              "\n",
              "    .dataframe tbody tr th {\n",
              "        vertical-align: top;\n",
              "    }\n",
              "\n",
              "    .dataframe thead th {\n",
              "        text-align: right;\n",
              "    }\n",
              "</style>\n",
              "<table border=\"1\" class=\"dataframe\">\n",
              "  <thead>\n",
              "    <tr style=\"text-align: right;\">\n",
              "      <th></th>\n",
              "      <th>housing_median_age</th>\n",
              "      <th>longitude</th>\n",
              "      <th>latitude</th>\n",
              "      <th>total_rooms</th>\n",
              "      <th>total_bedrooms</th>\n",
              "      <th>population</th>\n",
              "      <th>households</th>\n",
              "      <th>median_income</th>\n",
              "      <th>median_house_value</th>\n",
              "    </tr>\n",
              "  </thead>\n",
              "  <tbody>\n",
              "    <tr>\n",
              "      <th>0</th>\n",
              "      <td>1.0</td>\n",
              "      <td>-117.450000</td>\n",
              "      <td>34.470000</td>\n",
              "      <td>44.500000</td>\n",
              "      <td>8.500000</td>\n",
              "      <td>20.000000</td>\n",
              "      <td>8.500000</td>\n",
              "      <td>3.250000</td>\n",
              "      <td>98350.000000</td>\n",
              "    </tr>\n",
              "    <tr>\n",
              "      <th>1</th>\n",
              "      <td>2.0</td>\n",
              "      <td>-119.596667</td>\n",
              "      <td>35.793333</td>\n",
              "      <td>9006.333333</td>\n",
              "      <td>1459.166667</td>\n",
              "      <td>3067.500000</td>\n",
              "      <td>1014.166667</td>\n",
              "      <td>6.189233</td>\n",
              "      <td>217183.333333</td>\n",
              "    </tr>\n",
              "    <tr>\n",
              "      <th>2</th>\n",
              "      <td>3.0</td>\n",
              "      <td>-119.389167</td>\n",
              "      <td>35.591667</td>\n",
              "      <td>6731.250000</td>\n",
              "      <td>1214.750000</td>\n",
              "      <td>2702.583333</td>\n",
              "      <td>1020.833333</td>\n",
              "      <td>5.143750</td>\n",
              "      <td>238191.666667</td>\n",
              "    </tr>\n",
              "    <tr>\n",
              "      <th>3</th>\n",
              "      <td>4.0</td>\n",
              "      <td>-118.963571</td>\n",
              "      <td>34.962857</td>\n",
              "      <td>7383.392857</td>\n",
              "      <td>1385.214286</td>\n",
              "      <td>3329.107143</td>\n",
              "      <td>1266.642857</td>\n",
              "      <td>5.036068</td>\n",
              "      <td>220085.714286</td>\n",
              "    </tr>\n",
              "    <tr>\n",
              "      <th>4</th>\n",
              "      <td>5.0</td>\n",
              "      <td>-119.550513</td>\n",
              "      <td>35.870769</td>\n",
              "      <td>5660.615385</td>\n",
              "      <td>1085.051282</td>\n",
              "      <td>2624.974359</td>\n",
              "      <td>960.358974</td>\n",
              "      <td>4.613059</td>\n",
              "      <td>202925.692308</td>\n",
              "    </tr>\n",
              "  </tbody>\n",
              "</table>\n",
              "</div>"
            ],
            "text/plain": [
              "   housing_median_age   longitude  ...  median_income  median_house_value\n",
              "0                 1.0 -117.450000  ...       3.250000        98350.000000\n",
              "1                 2.0 -119.596667  ...       6.189233       217183.333333\n",
              "2                 3.0 -119.389167  ...       5.143750       238191.666667\n",
              "3                 4.0 -118.963571  ...       5.036068       220085.714286\n",
              "4                 5.0 -119.550513  ...       4.613059       202925.692308\n",
              "\n",
              "[5 rows x 9 columns]"
            ]
          },
          "metadata": {
            "tags": []
          },
          "execution_count": 47
        }
      ]
    },
    {
      "cell_type": "code",
      "metadata": {
        "id": "lPfzBB6vLCwV",
        "colab_type": "code",
        "colab": {
          "base_uri": "https://localhost:8080/",
          "height": 204
        },
        "outputId": "be6119da-e8f2-4521-fcaf-cb440f43faef"
      },
      "source": [
        "# Taking mean of total_rooms present in dataframe grouped by housing_median_age\n",
        "new_df[['total_rooms']].mean().head() #By using double brackets it returns as data frame"
      ],
      "execution_count": null,
      "outputs": [
        {
          "output_type": "execute_result",
          "data": {
            "text/html": [
              "<div>\n",
              "<style scoped>\n",
              "    .dataframe tbody tr th:only-of-type {\n",
              "        vertical-align: middle;\n",
              "    }\n",
              "\n",
              "    .dataframe tbody tr th {\n",
              "        vertical-align: top;\n",
              "    }\n",
              "\n",
              "    .dataframe thead th {\n",
              "        text-align: right;\n",
              "    }\n",
              "</style>\n",
              "<table border=\"1\" class=\"dataframe\">\n",
              "  <thead>\n",
              "    <tr style=\"text-align: right;\">\n",
              "      <th></th>\n",
              "      <th>housing_median_age</th>\n",
              "      <th>total_rooms</th>\n",
              "    </tr>\n",
              "  </thead>\n",
              "  <tbody>\n",
              "    <tr>\n",
              "      <th>0</th>\n",
              "      <td>1.0</td>\n",
              "      <td>44.500000</td>\n",
              "    </tr>\n",
              "    <tr>\n",
              "      <th>1</th>\n",
              "      <td>2.0</td>\n",
              "      <td>9006.333333</td>\n",
              "    </tr>\n",
              "    <tr>\n",
              "      <th>2</th>\n",
              "      <td>3.0</td>\n",
              "      <td>6731.250000</td>\n",
              "    </tr>\n",
              "    <tr>\n",
              "      <th>3</th>\n",
              "      <td>4.0</td>\n",
              "      <td>7383.392857</td>\n",
              "    </tr>\n",
              "    <tr>\n",
              "      <th>4</th>\n",
              "      <td>5.0</td>\n",
              "      <td>5660.615385</td>\n",
              "    </tr>\n",
              "  </tbody>\n",
              "</table>\n",
              "</div>"
            ],
            "text/plain": [
              "   housing_median_age  total_rooms\n",
              "0                 1.0    44.500000\n",
              "1                 2.0  9006.333333\n",
              "2                 3.0  6731.250000\n",
              "3                 4.0  7383.392857\n",
              "4                 5.0  5660.615385"
            ]
          },
          "metadata": {
            "tags": []
          },
          "execution_count": 48
        }
      ]
    },
    {
      "cell_type": "code",
      "metadata": {
        "id": "v6k6qW54DMjI",
        "colab_type": "code",
        "colab": {
          "base_uri": "https://localhost:8080/",
          "height": 266
        },
        "outputId": "47b826b2-a250-4386-a4f2-8779e3181c14"
      },
      "source": [
        "#Presenting various stats of column total_rooms present in dataframe grouped by housing_median_age using aggregate function.\n",
        "my_stat = ['count','mean','max', 'min', 'sum']\n",
        "new_df[['total_rooms']].agg(my_stat).head()"
      ],
      "execution_count": null,
      "outputs": [
        {
          "output_type": "execute_result",
          "data": {
            "text/html": [
              "<div>\n",
              "<style scoped>\n",
              "    .dataframe tbody tr th:only-of-type {\n",
              "        vertical-align: middle;\n",
              "    }\n",
              "\n",
              "    .dataframe tbody tr th {\n",
              "        vertical-align: top;\n",
              "    }\n",
              "\n",
              "    .dataframe thead tr th {\n",
              "        text-align: left;\n",
              "    }\n",
              "\n",
              "    .dataframe thead tr:last-of-type th {\n",
              "        text-align: right;\n",
              "    }\n",
              "</style>\n",
              "<table border=\"1\" class=\"dataframe\">\n",
              "  <thead>\n",
              "    <tr>\n",
              "      <th></th>\n",
              "      <th colspan=\"5\" halign=\"left\">total_rooms</th>\n",
              "    </tr>\n",
              "    <tr>\n",
              "      <th></th>\n",
              "      <th>count</th>\n",
              "      <th>mean</th>\n",
              "      <th>max</th>\n",
              "      <th>min</th>\n",
              "      <th>sum</th>\n",
              "    </tr>\n",
              "    <tr>\n",
              "      <th>housing_median_age</th>\n",
              "      <th></th>\n",
              "      <th></th>\n",
              "      <th></th>\n",
              "      <th></th>\n",
              "      <th></th>\n",
              "    </tr>\n",
              "  </thead>\n",
              "  <tbody>\n",
              "    <tr>\n",
              "      <th>1.0</th>\n",
              "      <td>2</td>\n",
              "      <td>44.500000</td>\n",
              "      <td>83.0</td>\n",
              "      <td>6.0</td>\n",
              "      <td>89.0</td>\n",
              "    </tr>\n",
              "    <tr>\n",
              "      <th>2.0</th>\n",
              "      <td>6</td>\n",
              "      <td>9006.333333</td>\n",
              "      <td>30450.0</td>\n",
              "      <td>158.0</td>\n",
              "      <td>54038.0</td>\n",
              "    </tr>\n",
              "    <tr>\n",
              "      <th>3.0</th>\n",
              "      <td>12</td>\n",
              "      <td>6731.250000</td>\n",
              "      <td>13802.0</td>\n",
              "      <td>1206.0</td>\n",
              "      <td>80775.0</td>\n",
              "    </tr>\n",
              "    <tr>\n",
              "      <th>4.0</th>\n",
              "      <td>28</td>\n",
              "      <td>7383.392857</td>\n",
              "      <td>23915.0</td>\n",
              "      <td>1346.0</td>\n",
              "      <td>206735.0</td>\n",
              "    </tr>\n",
              "    <tr>\n",
              "      <th>5.0</th>\n",
              "      <td>39</td>\n",
              "      <td>5660.615385</td>\n",
              "      <td>27870.0</td>\n",
              "      <td>906.0</td>\n",
              "      <td>220764.0</td>\n",
              "    </tr>\n",
              "  </tbody>\n",
              "</table>\n",
              "</div>"
            ],
            "text/plain": [
              "                   total_rooms                                        \n",
              "                         count         mean      max     min       sum\n",
              "housing_median_age                                                    \n",
              "1.0                          2    44.500000     83.0     6.0      89.0\n",
              "2.0                          6  9006.333333  30450.0   158.0   54038.0\n",
              "3.0                         12  6731.250000  13802.0  1206.0   80775.0\n",
              "4.0                         28  7383.392857  23915.0  1346.0  206735.0\n",
              "5.0                         39  5660.615385  27870.0   906.0  220764.0"
            ]
          },
          "metadata": {
            "tags": []
          },
          "execution_count": 49
        }
      ]
    },
    {
      "cell_type": "code",
      "metadata": {
        "id": "D5FSLpNvHC0T",
        "colab_type": "code",
        "colab": {
          "base_uri": "https://localhost:8080/",
          "height": 204
        },
        "outputId": "37bbf710-447f-447e-8151-d5b77d505dd9"
      },
      "source": [
        "# Presenting mean of column total_rooms and max of column total_bedrooms present in dataframe grouped by housing_median_age\n",
        "new_df.agg({'total_rooms': 'mean' , 'total_bedrooms' : 'max' }).head()"
      ],
      "execution_count": null,
      "outputs": [
        {
          "output_type": "execute_result",
          "data": {
            "text/html": [
              "<div>\n",
              "<style scoped>\n",
              "    .dataframe tbody tr th:only-of-type {\n",
              "        vertical-align: middle;\n",
              "    }\n",
              "\n",
              "    .dataframe tbody tr th {\n",
              "        vertical-align: top;\n",
              "    }\n",
              "\n",
              "    .dataframe thead th {\n",
              "        text-align: right;\n",
              "    }\n",
              "</style>\n",
              "<table border=\"1\" class=\"dataframe\">\n",
              "  <thead>\n",
              "    <tr style=\"text-align: right;\">\n",
              "      <th></th>\n",
              "      <th>housing_median_age</th>\n",
              "      <th>total_rooms</th>\n",
              "      <th>total_bedrooms</th>\n",
              "    </tr>\n",
              "  </thead>\n",
              "  <tbody>\n",
              "    <tr>\n",
              "      <th>0</th>\n",
              "      <td>1.0</td>\n",
              "      <td>44.500000</td>\n",
              "      <td>15.0</td>\n",
              "    </tr>\n",
              "    <tr>\n",
              "      <th>1</th>\n",
              "      <td>2.0</td>\n",
              "      <td>9006.333333</td>\n",
              "      <td>5033.0</td>\n",
              "    </tr>\n",
              "    <tr>\n",
              "      <th>2</th>\n",
              "      <td>3.0</td>\n",
              "      <td>6731.250000</td>\n",
              "      <td>2244.0</td>\n",
              "    </tr>\n",
              "    <tr>\n",
              "      <th>3</th>\n",
              "      <td>4.0</td>\n",
              "      <td>7383.392857</td>\n",
              "      <td>4585.0</td>\n",
              "    </tr>\n",
              "    <tr>\n",
              "      <th>4</th>\n",
              "      <td>5.0</td>\n",
              "      <td>5660.615385</td>\n",
              "      <td>5027.0</td>\n",
              "    </tr>\n",
              "  </tbody>\n",
              "</table>\n",
              "</div>"
            ],
            "text/plain": [
              "   housing_median_age  total_rooms  total_bedrooms\n",
              "0                 1.0    44.500000            15.0\n",
              "1                 2.0  9006.333333          5033.0\n",
              "2                 3.0  6731.250000          2244.0\n",
              "3                 4.0  7383.392857          4585.0\n",
              "4                 5.0  5660.615385          5027.0"
            ]
          },
          "metadata": {
            "tags": []
          },
          "execution_count": 50
        }
      ]
    },
    {
      "cell_type": "code",
      "metadata": {
        "id": "FktncnZsRbpW",
        "colab_type": "code",
        "colab": {}
      },
      "source": [
        ""
      ],
      "execution_count": null,
      "outputs": []
    }
  ]
}